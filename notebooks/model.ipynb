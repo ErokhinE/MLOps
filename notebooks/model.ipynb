{
 "cells": [
  {
   "cell_type": "markdown",
   "id": "5147b8ed",
   "metadata": {
    "id": "5c51b242-e095-498c-be78-e424e26996a2",
    "papermill": {
     "duration": 0.02119,
     "end_time": "2024-03-18T08:08:10.559873",
     "exception": false,
     "start_time": "2024-03-18T08:08:10.538683",
     "status": "completed"
    },
    "tags": []
   },
   "source": [
    "# Import Packages"
   ]
  },
  {
   "cell_type": "code",
   "execution_count": 1,
   "id": "ccdc2ef8",
   "metadata": {
    "id": "3623ad7a-90db-400b-b56f-eeaa7534e689",
    "papermill": {
     "duration": 1.438491,
     "end_time": "2024-03-18T08:08:12.021463",
     "exception": false,
     "start_time": "2024-03-18T08:08:10.582972",
     "status": "completed"
    },
    "tags": []
   },
   "outputs": [],
   "source": [
    "import pandas as pd\n",
    "import matplotlib.pyplot as plt\n",
    "from scipy.stats import probplot\n",
    "from pandas.plotting import scatter_matrix\n",
    "from scipy import stats"
   ]
  },
  {
   "cell_type": "code",
   "execution_count": 2,
   "id": "4236574e",
   "metadata": {
    "executionInfo": {
     "elapsed": 1409,
     "status": "ok",
     "timestamp": 1707675091228,
     "user": {
      "displayName": "Syed Anwar",
      "userId": "07422359212057843560"
     },
     "user_tz": -300
    },
    "id": "59f318ba-5ba0-4443-af8d-65ce456d8855",
    "outputId": "7a4add39-2a57-42ba-e322-6c73c66dea7d",
    "papermill": {
     "duration": 3.89857,
     "end_time": "2024-03-18T08:08:15.941822",
     "exception": false,
     "start_time": "2024-03-18T08:08:12.043252",
     "status": "completed"
    },
    "tags": []
   },
   "outputs": [
    {
     "data": {
      "text/html": [
       "<div>\n",
       "<style scoped>\n",
       "    .dataframe tbody tr th:only-of-type {\n",
       "        vertical-align: middle;\n",
       "    }\n",
       "\n",
       "    .dataframe tbody tr th {\n",
       "        vertical-align: top;\n",
       "    }\n",
       "\n",
       "    .dataframe thead th {\n",
       "        text-align: right;\n",
       "    }\n",
       "</style>\n",
       "<table border=\"1\" class=\"dataframe\">\n",
       "  <thead>\n",
       "    <tr style=\"text-align: right;\">\n",
       "      <th></th>\n",
       "      <th>year</th>\n",
       "      <th>make</th>\n",
       "      <th>model</th>\n",
       "      <th>trim</th>\n",
       "      <th>body</th>\n",
       "      <th>transmission</th>\n",
       "      <th>vin</th>\n",
       "      <th>state</th>\n",
       "      <th>condition</th>\n",
       "      <th>odometer</th>\n",
       "      <th>color</th>\n",
       "      <th>interior</th>\n",
       "      <th>seller</th>\n",
       "      <th>mmr</th>\n",
       "      <th>sellingprice</th>\n",
       "      <th>saledate</th>\n",
       "    </tr>\n",
       "  </thead>\n",
       "  <tbody>\n",
       "    <tr>\n",
       "      <th>0</th>\n",
       "      <td>2015</td>\n",
       "      <td>Kia</td>\n",
       "      <td>Sorento</td>\n",
       "      <td>LX</td>\n",
       "      <td>SUV</td>\n",
       "      <td>automatic</td>\n",
       "      <td>5xyktca69fg566472</td>\n",
       "      <td>ca</td>\n",
       "      <td>5.0</td>\n",
       "      <td>16639.0</td>\n",
       "      <td>white</td>\n",
       "      <td>black</td>\n",
       "      <td>kia motors america  inc</td>\n",
       "      <td>20500.0</td>\n",
       "      <td>21500.0</td>\n",
       "      <td>Tue Dec 16 2014 12:30:00 GMT-0800 (PST)</td>\n",
       "    </tr>\n",
       "    <tr>\n",
       "      <th>1</th>\n",
       "      <td>2015</td>\n",
       "      <td>Kia</td>\n",
       "      <td>Sorento</td>\n",
       "      <td>LX</td>\n",
       "      <td>SUV</td>\n",
       "      <td>automatic</td>\n",
       "      <td>5xyktca69fg561319</td>\n",
       "      <td>ca</td>\n",
       "      <td>5.0</td>\n",
       "      <td>9393.0</td>\n",
       "      <td>white</td>\n",
       "      <td>beige</td>\n",
       "      <td>kia motors america  inc</td>\n",
       "      <td>20800.0</td>\n",
       "      <td>21500.0</td>\n",
       "      <td>Tue Dec 16 2014 12:30:00 GMT-0800 (PST)</td>\n",
       "    </tr>\n",
       "    <tr>\n",
       "      <th>2</th>\n",
       "      <td>2014</td>\n",
       "      <td>BMW</td>\n",
       "      <td>3 Series</td>\n",
       "      <td>328i SULEV</td>\n",
       "      <td>Sedan</td>\n",
       "      <td>automatic</td>\n",
       "      <td>wba3c1c51ek116351</td>\n",
       "      <td>ca</td>\n",
       "      <td>45.0</td>\n",
       "      <td>1331.0</td>\n",
       "      <td>gray</td>\n",
       "      <td>black</td>\n",
       "      <td>financial services remarketing (lease)</td>\n",
       "      <td>31900.0</td>\n",
       "      <td>30000.0</td>\n",
       "      <td>Thu Jan 15 2015 04:30:00 GMT-0800 (PST)</td>\n",
       "    </tr>\n",
       "    <tr>\n",
       "      <th>3</th>\n",
       "      <td>2015</td>\n",
       "      <td>Volvo</td>\n",
       "      <td>S60</td>\n",
       "      <td>T5</td>\n",
       "      <td>Sedan</td>\n",
       "      <td>automatic</td>\n",
       "      <td>yv1612tb4f1310987</td>\n",
       "      <td>ca</td>\n",
       "      <td>41.0</td>\n",
       "      <td>14282.0</td>\n",
       "      <td>white</td>\n",
       "      <td>black</td>\n",
       "      <td>volvo na rep/world omni</td>\n",
       "      <td>27500.0</td>\n",
       "      <td>27750.0</td>\n",
       "      <td>Thu Jan 29 2015 04:30:00 GMT-0800 (PST)</td>\n",
       "    </tr>\n",
       "    <tr>\n",
       "      <th>4</th>\n",
       "      <td>2014</td>\n",
       "      <td>BMW</td>\n",
       "      <td>6 Series Gran Coupe</td>\n",
       "      <td>650i</td>\n",
       "      <td>Sedan</td>\n",
       "      <td>automatic</td>\n",
       "      <td>wba6b2c57ed129731</td>\n",
       "      <td>ca</td>\n",
       "      <td>43.0</td>\n",
       "      <td>2641.0</td>\n",
       "      <td>gray</td>\n",
       "      <td>black</td>\n",
       "      <td>financial services remarketing (lease)</td>\n",
       "      <td>66000.0</td>\n",
       "      <td>67000.0</td>\n",
       "      <td>Thu Dec 18 2014 12:30:00 GMT-0800 (PST)</td>\n",
       "    </tr>\n",
       "  </tbody>\n",
       "</table>\n",
       "</div>"
      ],
      "text/plain": [
       "   year   make                model        trim   body transmission  \\\n",
       "0  2015    Kia              Sorento          LX    SUV    automatic   \n",
       "1  2015    Kia              Sorento          LX    SUV    automatic   \n",
       "2  2014    BMW             3 Series  328i SULEV  Sedan    automatic   \n",
       "3  2015  Volvo                  S60          T5  Sedan    automatic   \n",
       "4  2014    BMW  6 Series Gran Coupe        650i  Sedan    automatic   \n",
       "\n",
       "                 vin state  condition  odometer  color interior  \\\n",
       "0  5xyktca69fg566472    ca        5.0   16639.0  white    black   \n",
       "1  5xyktca69fg561319    ca        5.0    9393.0  white    beige   \n",
       "2  wba3c1c51ek116351    ca       45.0    1331.0   gray    black   \n",
       "3  yv1612tb4f1310987    ca       41.0   14282.0  white    black   \n",
       "4  wba6b2c57ed129731    ca       43.0    2641.0   gray    black   \n",
       "\n",
       "                                   seller      mmr  sellingprice  \\\n",
       "0                 kia motors america  inc  20500.0       21500.0   \n",
       "1                 kia motors america  inc  20800.0       21500.0   \n",
       "2  financial services remarketing (lease)  31900.0       30000.0   \n",
       "3                 volvo na rep/world omni  27500.0       27750.0   \n",
       "4  financial services remarketing (lease)  66000.0       67000.0   \n",
       "\n",
       "                                  saledate  \n",
       "0  Tue Dec 16 2014 12:30:00 GMT-0800 (PST)  \n",
       "1  Tue Dec 16 2014 12:30:00 GMT-0800 (PST)  \n",
       "2  Thu Jan 15 2015 04:30:00 GMT-0800 (PST)  \n",
       "3  Thu Jan 29 2015 04:30:00 GMT-0800 (PST)  \n",
       "4  Thu Dec 18 2014 12:30:00 GMT-0800 (PST)  "
      ]
     },
     "execution_count": 2,
     "metadata": {},
     "output_type": "execute_result"
    }
   ],
   "source": [
    "df = pd.read_csv('../data/car_prices.csv')\n",
    "df.head()"
   ]
  },
  {
   "cell_type": "markdown",
   "id": "167fb47b",
   "metadata": {},
   "source": [
    "| Column Name     | Type     | Description                                        |\n",
    "|-----------------|----------|----------------------------------------------------|\n",
    "| year            | int64    | The manufacturing year of the vehicle (e.g., 2015) |\n",
    "| make            | object   | The brand or manufacturer of the vehicle (e.g., Kia, BMW, Volvo) |\n",
    "| model           | object   | The specific model of the vehicle (e.g., Sorento, 3 Series, S60, 6 Series Gran Coupe) |\n",
    "| trim            | object   | Additional designation for a particular version or option package of the model (e.g., LX, 328i SULEV, T5, 650i) |\n",
    "| body            | object   | The type of vehicle body (e.g., SUV, Sedan)        |\n",
    "| transmission    | object   | The type of transmission in the vehicle (e.g., automatic) |\n",
    "| vin             | object   | The Vehicle Identification Number, a unique code used to identify individual motor vehicles |\n",
    "| state           | object   | The state in which the vehicle is located or registered (e.g., CA for California) |\n",
    "| condition       | float64  | A numerical representation of the condition of the vehicle (e.g., 5.0) |\n",
    "| odometer        | float64  | The mileage or distance traveled by the vehicle    |\n",
    "| color           | object   | The exterior color of the vehicle                  |\n",
    "| interior        | object   | The interior color of the vehicle                  |\n",
    "| seller          | object   | The entity or company selling the vehicle (e.g., Kia Motors America Inc, Financial Services Remarketing) |\n",
    "| mmr             | float64  | Manheim Market Report, a pricing tool used in the automotive industry |\n",
    "| sellingprice    | float64  | The price at which the vehicle was sold            |\n",
    "| saledate        | object   | The date and time when the vehicle was sold        |\n"
   ]
  },
  {
   "cell_type": "markdown",
   "id": "601d1828",
   "metadata": {},
   "source": [
    "### Missing values\n",
    "After EDA stage we know that several columns has null values inside them, we handle null values as in EDA stage"
   ]
  },
  {
   "cell_type": "markdown",
   "id": "e11f3e16",
   "metadata": {
    "id": "0c181ae0-4326-46ca-8ed8-7bfaf9c3f41c",
    "papermill": {
     "duration": 0.022192,
     "end_time": "2024-03-18T08:08:17.653297",
     "exception": false,
     "start_time": "2024-03-18T08:08:17.631105",
     "status": "completed"
    },
    "tags": []
   },
   "source": [
    "#### Handling Missing Values In Categorical Columns"
   ]
  },
  {
   "cell_type": "code",
   "execution_count": 3,
   "id": "9a678a0b",
   "metadata": {
    "id": "fd1d2f21-8e3b-4780-bf63-77f34bc9b999",
    "papermill": {
     "duration": 1.362317,
     "end_time": "2024-03-18T08:08:19.038367",
     "exception": false,
     "start_time": "2024-03-18T08:08:17.676050",
     "status": "completed"
    },
    "scrolled": true,
    "tags": []
   },
   "outputs": [],
   "source": [
    "# Fill missing values with 'other' category\n",
    "df['trim'] = df['trim'].fillna('other')\n",
    "df['color'] = df['color'].fillna('other')\n",
    "df['make'] = df['make'].fillna('other')\n",
    "df['model'] = df['model'].fillna('other')\n",
    "\n",
    "\n",
    "# Fill missing values with mode\n",
    "df['body'] = df['body'].fillna(df['body'].mode()[0])\n",
    "df['interior'] = df['interior'].fillna(df['interior'].mode()[0])\n",
    "df['transmission'] = df['transmission'].fillna(df['transmission'].mode()[0])\n",
    "\n",
    "# Remove null values\n",
    "df.dropna(subset=['vin'], inplace=True)\n",
    "df.dropna(subset=['saledate'], inplace=True)\n"
   ]
  },
  {
   "cell_type": "markdown",
   "id": "07a4a2a1",
   "metadata": {
    "id": "ceb210b4-0da8-4f58-88f6-92bdb1e630a3",
    "papermill": {
     "duration": 0.022032,
     "end_time": "2024-03-18T08:08:19.804848",
     "exception": false,
     "start_time": "2024-03-18T08:08:19.782816",
     "status": "completed"
    },
    "tags": []
   },
   "source": [
    "#### Handling Missing Values in Numerical Columns"
   ]
  },
  {
   "cell_type": "code",
   "execution_count": 4,
   "id": "c08fc43b",
   "metadata": {
    "id": "27204f75-cfb1-41ea-9139-2c1fd823913a",
    "papermill": {
     "duration": 0.060465,
     "end_time": "2024-03-18T08:08:20.890079",
     "exception": false,
     "start_time": "2024-03-18T08:08:20.829614",
     "status": "completed"
    },
    "tags": []
   },
   "outputs": [],
   "source": [
    "df['condition'] = df['condition'].fillna(df['condition'].median())\n",
    "df['odometer'] = df['odometer'].fillna(df['odometer'].mean())\n",
    "df['mmr'] = df['mmr'].fillna(df['mmr'].mean())"
   ]
  },
  {
   "cell_type": "markdown",
   "id": "5c2ce8a7",
   "metadata": {
    "id": "0a3306dc-30af-4d5a-a560-630e79517d0a",
    "papermill": {
     "duration": 0.024127,
     "end_time": "2024-03-18T08:08:21.663848",
     "exception": false,
     "start_time": "2024-03-18T08:08:21.639721",
     "status": "completed"
    },
    "tags": []
   },
   "source": [
    "<br>"
   ]
  },
  {
   "cell_type": "markdown",
   "id": "671a6dc9",
   "metadata": {
    "id": "71e4b900-c554-4c60-978a-c7a78df06d21",
    "papermill": {
     "duration": 0.033465,
     "end_time": "2024-03-18T08:08:23.317023",
     "exception": false,
     "start_time": "2024-03-18T08:08:23.283558",
     "status": "completed"
    },
    "tags": []
   },
   "source": [
    "#### Outliers Handling\n",
    "\n",
    "In EDA stage we found that numerical coulmns have outliers, to deal with them we use z-score statistics as in EDA."
   ]
  },
  {
   "cell_type": "code",
   "execution_count": 5,
   "id": "8d3eedec",
   "metadata": {
    "executionInfo": {
     "elapsed": 991,
     "status": "ok",
     "timestamp": 1707675132473,
     "user": {
      "displayName": "Syed Anwar",
      "userId": "07422359212057843560"
     },
     "user_tz": -300
    },
    "id": "42c4f3fc-04ae-4117-8d44-c97fbec84bcc",
    "outputId": "0ed6a595-82fc-49b2-b967-d236657d94fc",
    "papermill": {
     "duration": 0.988155,
     "end_time": "2024-03-18T08:08:24.335248",
     "exception": false,
     "start_time": "2024-03-18T08:08:23.347093",
     "status": "completed"
    },
    "tags": []
   },
   "outputs": [],
   "source": [
    "# selecting numerical features\n",
    "numerical_columns = df.select_dtypes(include=['float64', 'int64']).columns"
   ]
  },
  {
   "cell_type": "code",
   "execution_count": 6,
   "id": "dd2f7162",
   "metadata": {
    "executionInfo": {
     "elapsed": 1179,
     "status": "ok",
     "timestamp": 1707675483683,
     "user": {
      "displayName": "Syed Anwar",
      "userId": "07422359212057843560"
     },
     "user_tz": -300
    },
    "id": "1bb6a44f-943d-4671-a6b2-ee32b1a52fa5",
    "outputId": "7ddfb586-1e8e-4dc4-a02f-664d31d98241",
    "papermill": {
     "duration": 0.222857,
     "end_time": "2024-03-18T08:09:25.109362",
     "exception": false,
     "start_time": "2024-03-18T08:09:24.886505",
     "status": "completed"
    },
    "tags": []
   },
   "outputs": [
    {
     "data": {
      "text/plain": [
       "(511816, 16)"
      ]
     },
     "execution_count": 6,
     "metadata": {},
     "output_type": "execute_result"
    }
   ],
   "source": [
    "# Remove outliers using Z-score\n",
    "z_scores = stats.zscore(df[numerical_columns])\n",
    "clean_df = df[(z_scores < 2).all(axis=1)]\n",
    "clean_df.shape"
   ]
  },
  {
   "cell_type": "code",
   "execution_count": 7,
   "id": "180fdd01",
   "metadata": {
    "executionInfo": {
     "elapsed": 32,
     "status": "ok",
     "timestamp": 1707675485961,
     "user": {
      "displayName": "Syed Anwar",
      "userId": "07422359212057843560"
     },
     "user_tz": -300
    },
    "id": "178eb341-59d7-43ac-8129-8431804e2969",
    "outputId": "0fb4ac7f-c222-4100-f005-f337764606a4",
    "papermill": {
     "duration": 0.058032,
     "end_time": "2024-03-18T08:09:26.053326",
     "exception": false,
     "start_time": "2024-03-18T08:09:25.995294",
     "status": "completed"
    },
    "tags": []
   },
   "outputs": [
    {
     "data": {
      "text/html": [
       "<div>\n",
       "<style scoped>\n",
       "    .dataframe tbody tr th:only-of-type {\n",
       "        vertical-align: middle;\n",
       "    }\n",
       "\n",
       "    .dataframe tbody tr th {\n",
       "        vertical-align: top;\n",
       "    }\n",
       "\n",
       "    .dataframe thead th {\n",
       "        text-align: right;\n",
       "    }\n",
       "</style>\n",
       "<table border=\"1\" class=\"dataframe\">\n",
       "  <thead>\n",
       "    <tr style=\"text-align: right;\">\n",
       "      <th></th>\n",
       "      <th>year</th>\n",
       "      <th>make</th>\n",
       "      <th>model</th>\n",
       "      <th>trim</th>\n",
       "      <th>body</th>\n",
       "      <th>transmission</th>\n",
       "      <th>vin</th>\n",
       "      <th>state</th>\n",
       "      <th>condition</th>\n",
       "      <th>odometer</th>\n",
       "      <th>color</th>\n",
       "      <th>interior</th>\n",
       "      <th>seller</th>\n",
       "      <th>mmr</th>\n",
       "      <th>sellingprice</th>\n",
       "      <th>saledate</th>\n",
       "    </tr>\n",
       "  </thead>\n",
       "  <tbody>\n",
       "    <tr>\n",
       "      <th>0</th>\n",
       "      <td>2015</td>\n",
       "      <td>Kia</td>\n",
       "      <td>Sorento</td>\n",
       "      <td>LX</td>\n",
       "      <td>SUV</td>\n",
       "      <td>automatic</td>\n",
       "      <td>5xyktca69fg566472</td>\n",
       "      <td>ca</td>\n",
       "      <td>5.0</td>\n",
       "      <td>16639.0</td>\n",
       "      <td>white</td>\n",
       "      <td>black</td>\n",
       "      <td>kia motors america  inc</td>\n",
       "      <td>20500.0</td>\n",
       "      <td>21500.0</td>\n",
       "      <td>Tue Dec 16 2014 12:30:00 GMT-0800 (PST)</td>\n",
       "    </tr>\n",
       "    <tr>\n",
       "      <th>1</th>\n",
       "      <td>2015</td>\n",
       "      <td>Kia</td>\n",
       "      <td>Sorento</td>\n",
       "      <td>LX</td>\n",
       "      <td>SUV</td>\n",
       "      <td>automatic</td>\n",
       "      <td>5xyktca69fg561319</td>\n",
       "      <td>ca</td>\n",
       "      <td>5.0</td>\n",
       "      <td>9393.0</td>\n",
       "      <td>white</td>\n",
       "      <td>beige</td>\n",
       "      <td>kia motors america  inc</td>\n",
       "      <td>20800.0</td>\n",
       "      <td>21500.0</td>\n",
       "      <td>Tue Dec 16 2014 12:30:00 GMT-0800 (PST)</td>\n",
       "    </tr>\n",
       "  </tbody>\n",
       "</table>\n",
       "</div>"
      ],
      "text/plain": [
       "   year make    model trim body transmission                vin state  \\\n",
       "0  2015  Kia  Sorento   LX  SUV    automatic  5xyktca69fg566472    ca   \n",
       "1  2015  Kia  Sorento   LX  SUV    automatic  5xyktca69fg561319    ca   \n",
       "\n",
       "   condition  odometer  color interior                   seller      mmr  \\\n",
       "0        5.0   16639.0  white    black  kia motors america  inc  20500.0   \n",
       "1        5.0    9393.0  white    beige  kia motors america  inc  20800.0   \n",
       "\n",
       "   sellingprice                                 saledate  \n",
       "0       21500.0  Tue Dec 16 2014 12:30:00 GMT-0800 (PST)  \n",
       "1       21500.0  Tue Dec 16 2014 12:30:00 GMT-0800 (PST)  "
      ]
     },
     "execution_count": 7,
     "metadata": {},
     "output_type": "execute_result"
    }
   ],
   "source": [
    "clean_df.head(2)"
   ]
  },
  {
   "cell_type": "code",
   "execution_count": 8,
   "id": "ed7aba53",
   "metadata": {
    "executionInfo": {
     "elapsed": 29,
     "status": "ok",
     "timestamp": 1707675485961,
     "user": {
      "displayName": "Syed Anwar",
      "userId": "07422359212057843560"
     },
     "user_tz": -300
    },
    "id": "f0407db4-dd8f-4a7d-acae-09cce213fd4e",
    "outputId": "a950289f-a04d-4732-b4e3-cf646638ca52",
    "papermill": {
     "duration": 0.166483,
     "end_time": "2024-03-18T08:09:26.314337",
     "exception": false,
     "start_time": "2024-03-18T08:09:26.147854",
     "status": "completed"
    },
    "tags": []
   },
   "outputs": [
    {
     "data": {
      "text/html": [
       "<div>\n",
       "<style scoped>\n",
       "    .dataframe tbody tr th:only-of-type {\n",
       "        vertical-align: middle;\n",
       "    }\n",
       "\n",
       "    .dataframe tbody tr th {\n",
       "        vertical-align: top;\n",
       "    }\n",
       "\n",
       "    .dataframe thead th {\n",
       "        text-align: right;\n",
       "    }\n",
       "</style>\n",
       "<table border=\"1\" class=\"dataframe\">\n",
       "  <thead>\n",
       "    <tr style=\"text-align: right;\">\n",
       "      <th></th>\n",
       "      <th>year</th>\n",
       "      <th>condition</th>\n",
       "      <th>odometer</th>\n",
       "      <th>mmr</th>\n",
       "      <th>sellingprice</th>\n",
       "    </tr>\n",
       "  </thead>\n",
       "  <tbody>\n",
       "    <tr>\n",
       "      <th>count</th>\n",
       "      <td>511816.000000</td>\n",
       "      <td>511816.000000</td>\n",
       "      <td>511816.000000</td>\n",
       "      <td>511816.000000</td>\n",
       "      <td>511816.000000</td>\n",
       "    </tr>\n",
       "    <tr>\n",
       "      <th>mean</th>\n",
       "      <td>2010.237798</td>\n",
       "      <td>31.030118</td>\n",
       "      <td>63351.716578</td>\n",
       "      <td>13029.954811</td>\n",
       "      <td>12861.592033</td>\n",
       "    </tr>\n",
       "    <tr>\n",
       "      <th>std</th>\n",
       "      <td>3.704200</td>\n",
       "      <td>13.043716</td>\n",
       "      <td>43007.915008</td>\n",
       "      <td>7230.515564</td>\n",
       "      <td>7331.708638</td>\n",
       "    </tr>\n",
       "    <tr>\n",
       "      <th>min</th>\n",
       "      <td>1982.000000</td>\n",
       "      <td>1.000000</td>\n",
       "      <td>1.000000</td>\n",
       "      <td>25.000000</td>\n",
       "      <td>1.000000</td>\n",
       "    </tr>\n",
       "    <tr>\n",
       "      <th>25%</th>\n",
       "      <td>2008.000000</td>\n",
       "      <td>25.000000</td>\n",
       "      <td>28792.000000</td>\n",
       "      <td>7675.000000</td>\n",
       "      <td>7400.000000</td>\n",
       "    </tr>\n",
       "    <tr>\n",
       "      <th>50%</th>\n",
       "      <td>2012.000000</td>\n",
       "      <td>35.000000</td>\n",
       "      <td>51633.000000</td>\n",
       "      <td>12300.000000</td>\n",
       "      <td>12100.000000</td>\n",
       "    </tr>\n",
       "    <tr>\n",
       "      <th>75%</th>\n",
       "      <td>2013.000000</td>\n",
       "      <td>41.000000</td>\n",
       "      <td>94396.500000</td>\n",
       "      <td>17650.000000</td>\n",
       "      <td>17600.000000</td>\n",
       "    </tr>\n",
       "    <tr>\n",
       "      <th>max</th>\n",
       "      <td>2015.000000</td>\n",
       "      <td>49.000000</td>\n",
       "      <td>175107.000000</td>\n",
       "      <td>33100.000000</td>\n",
       "      <td>33100.000000</td>\n",
       "    </tr>\n",
       "  </tbody>\n",
       "</table>\n",
       "</div>"
      ],
      "text/plain": [
       "                year      condition       odometer            mmr  \\\n",
       "count  511816.000000  511816.000000  511816.000000  511816.000000   \n",
       "mean     2010.237798      31.030118   63351.716578   13029.954811   \n",
       "std         3.704200      13.043716   43007.915008    7230.515564   \n",
       "min      1982.000000       1.000000       1.000000      25.000000   \n",
       "25%      2008.000000      25.000000   28792.000000    7675.000000   \n",
       "50%      2012.000000      35.000000   51633.000000   12300.000000   \n",
       "75%      2013.000000      41.000000   94396.500000   17650.000000   \n",
       "max      2015.000000      49.000000  175107.000000   33100.000000   \n",
       "\n",
       "        sellingprice  \n",
       "count  511816.000000  \n",
       "mean    12861.592033  \n",
       "std      7331.708638  \n",
       "min         1.000000  \n",
       "25%      7400.000000  \n",
       "50%     12100.000000  \n",
       "75%     17600.000000  \n",
       "max     33100.000000  "
      ]
     },
     "execution_count": 8,
     "metadata": {},
     "output_type": "execute_result"
    }
   ],
   "source": [
    "clean_df.describe()"
   ]
  },
  {
   "cell_type": "code",
   "execution_count": 9,
   "id": "be83bbc8",
   "metadata": {},
   "outputs": [
    {
     "data": {
      "text/plain": [
       "year                                               2009\n",
       "make                                             Toyota\n",
       "model                                           Corolla\n",
       "trim                                                 LE\n",
       "body                                              Sedan\n",
       "transmission                                  automatic\n",
       "vin                                   1nxbu40e29z011048\n",
       "state                                                ca\n",
       "condition                                          36.0\n",
       "odometer                                        83334.0\n",
       "color                                             white\n",
       "interior                                          beige\n",
       "seller                            san diego sports cars\n",
       "mmr                                              6925.0\n",
       "sellingprice                                     9100.0\n",
       "saledate        Wed Dec 17 2014 12:15:00 GMT-0800 (PST)\n",
       "Name: 2894, dtype: object"
      ]
     },
     "execution_count": 9,
     "metadata": {},
     "output_type": "execute_result"
    }
   ],
   "source": [
    "df.iloc[2894]"
   ]
  },
  {
   "cell_type": "code",
   "execution_count": 10,
   "id": "de147636",
   "metadata": {
    "executionInfo": {
     "elapsed": 28,
     "status": "ok",
     "timestamp": 1707675485962,
     "user": {
      "displayName": "Syed Anwar",
      "userId": "07422359212057843560"
     },
     "user_tz": -300
    },
    "id": "a6d79747-4091-4981-892c-b052a00eeb53",
    "outputId": "5492a549-05ec-4eac-b9ad-5457196d4096",
    "papermill": {
     "duration": 0.131889,
     "end_time": "2024-03-18T08:09:26.477861",
     "exception": false,
     "start_time": "2024-03-18T08:09:26.345972",
     "status": "completed"
    },
    "tags": []
   },
   "outputs": [
    {
     "name": "stderr",
     "output_type": "stream",
     "text": [
      "C:\\Users\\danil\\AppData\\Local\\Temp\\ipykernel_25624\\417278354.py:2: SettingWithCopyWarning: \n",
      "A value is trying to be set on a copy of a slice from a DataFrame\n",
      "\n",
      "See the caveats in the documentation: https://pandas.pydata.org/pandas-docs/stable/user_guide/indexing.html#returning-a-view-versus-a-copy\n",
      "  clean_df.drop(columns=['saledate'], inplace=True)\n"
     ]
    }
   ],
   "source": [
    "#we are dropping the saledate column because we face error inside this column. And its not going to help us in analysis. in Timeseries analysis it can help but we are not doing time series analysis on this data.\n",
    "clean_df.drop(columns=['saledate'], inplace=True)"
   ]
  },
  {
   "cell_type": "code",
   "execution_count": 11,
   "id": "e9c85578",
   "metadata": {
    "executionInfo": {
     "elapsed": 18,
     "status": "ok",
     "timestamp": 1707675489894,
     "user": {
      "displayName": "Syed Anwar",
      "userId": "07422359212057843560"
     },
     "user_tz": -300
    },
    "id": "e3b933db-96bc-417d-a0b1-432be7b610c3",
    "outputId": "97cf81e8-dea9-4108-938b-44dd24c3bbc4",
    "papermill": {
     "duration": 0.061253,
     "end_time": "2024-03-18T08:09:26.572512",
     "exception": false,
     "start_time": "2024-03-18T08:09:26.511259",
     "status": "completed"
    },
    "tags": []
   },
   "outputs": [
    {
     "data": {
      "text/html": [
       "<div>\n",
       "<style scoped>\n",
       "    .dataframe tbody tr th:only-of-type {\n",
       "        vertical-align: middle;\n",
       "    }\n",
       "\n",
       "    .dataframe tbody tr th {\n",
       "        vertical-align: top;\n",
       "    }\n",
       "\n",
       "    .dataframe thead th {\n",
       "        text-align: right;\n",
       "    }\n",
       "</style>\n",
       "<table border=\"1\" class=\"dataframe\">\n",
       "  <thead>\n",
       "    <tr style=\"text-align: right;\">\n",
       "      <th></th>\n",
       "      <th>year</th>\n",
       "      <th>make</th>\n",
       "      <th>model</th>\n",
       "      <th>trim</th>\n",
       "      <th>body</th>\n",
       "      <th>transmission</th>\n",
       "      <th>vin</th>\n",
       "      <th>state</th>\n",
       "      <th>condition</th>\n",
       "      <th>odometer</th>\n",
       "      <th>color</th>\n",
       "      <th>interior</th>\n",
       "      <th>seller</th>\n",
       "      <th>mmr</th>\n",
       "      <th>sellingprice</th>\n",
       "    </tr>\n",
       "  </thead>\n",
       "  <tbody>\n",
       "    <tr>\n",
       "      <th>0</th>\n",
       "      <td>2015</td>\n",
       "      <td>Kia</td>\n",
       "      <td>Sorento</td>\n",
       "      <td>LX</td>\n",
       "      <td>SUV</td>\n",
       "      <td>automatic</td>\n",
       "      <td>5xyktca69fg566472</td>\n",
       "      <td>ca</td>\n",
       "      <td>5.0</td>\n",
       "      <td>16639.0</td>\n",
       "      <td>white</td>\n",
       "      <td>black</td>\n",
       "      <td>kia motors america  inc</td>\n",
       "      <td>20500.0</td>\n",
       "      <td>21500.0</td>\n",
       "    </tr>\n",
       "    <tr>\n",
       "      <th>1</th>\n",
       "      <td>2015</td>\n",
       "      <td>Kia</td>\n",
       "      <td>Sorento</td>\n",
       "      <td>LX</td>\n",
       "      <td>SUV</td>\n",
       "      <td>automatic</td>\n",
       "      <td>5xyktca69fg561319</td>\n",
       "      <td>ca</td>\n",
       "      <td>5.0</td>\n",
       "      <td>9393.0</td>\n",
       "      <td>white</td>\n",
       "      <td>beige</td>\n",
       "      <td>kia motors america  inc</td>\n",
       "      <td>20800.0</td>\n",
       "      <td>21500.0</td>\n",
       "    </tr>\n",
       "    <tr>\n",
       "      <th>2</th>\n",
       "      <td>2014</td>\n",
       "      <td>BMW</td>\n",
       "      <td>3 Series</td>\n",
       "      <td>328i SULEV</td>\n",
       "      <td>Sedan</td>\n",
       "      <td>automatic</td>\n",
       "      <td>wba3c1c51ek116351</td>\n",
       "      <td>ca</td>\n",
       "      <td>45.0</td>\n",
       "      <td>1331.0</td>\n",
       "      <td>gray</td>\n",
       "      <td>black</td>\n",
       "      <td>financial services remarketing (lease)</td>\n",
       "      <td>31900.0</td>\n",
       "      <td>30000.0</td>\n",
       "    </tr>\n",
       "    <tr>\n",
       "      <th>3</th>\n",
       "      <td>2015</td>\n",
       "      <td>Volvo</td>\n",
       "      <td>S60</td>\n",
       "      <td>T5</td>\n",
       "      <td>Sedan</td>\n",
       "      <td>automatic</td>\n",
       "      <td>yv1612tb4f1310987</td>\n",
       "      <td>ca</td>\n",
       "      <td>41.0</td>\n",
       "      <td>14282.0</td>\n",
       "      <td>white</td>\n",
       "      <td>black</td>\n",
       "      <td>volvo na rep/world omni</td>\n",
       "      <td>27500.0</td>\n",
       "      <td>27750.0</td>\n",
       "    </tr>\n",
       "    <tr>\n",
       "      <th>5</th>\n",
       "      <td>2015</td>\n",
       "      <td>Nissan</td>\n",
       "      <td>Altima</td>\n",
       "      <td>2.5 S</td>\n",
       "      <td>Sedan</td>\n",
       "      <td>automatic</td>\n",
       "      <td>1n4al3ap1fn326013</td>\n",
       "      <td>ca</td>\n",
       "      <td>1.0</td>\n",
       "      <td>5554.0</td>\n",
       "      <td>gray</td>\n",
       "      <td>black</td>\n",
       "      <td>enterprise vehicle exchange / tra / rental / t...</td>\n",
       "      <td>15350.0</td>\n",
       "      <td>10900.0</td>\n",
       "    </tr>\n",
       "  </tbody>\n",
       "</table>\n",
       "</div>"
      ],
      "text/plain": [
       "   year    make     model        trim   body transmission                vin  \\\n",
       "0  2015     Kia   Sorento          LX    SUV    automatic  5xyktca69fg566472   \n",
       "1  2015     Kia   Sorento          LX    SUV    automatic  5xyktca69fg561319   \n",
       "2  2014     BMW  3 Series  328i SULEV  Sedan    automatic  wba3c1c51ek116351   \n",
       "3  2015   Volvo       S60          T5  Sedan    automatic  yv1612tb4f1310987   \n",
       "5  2015  Nissan    Altima       2.5 S  Sedan    automatic  1n4al3ap1fn326013   \n",
       "\n",
       "  state  condition  odometer  color interior  \\\n",
       "0    ca        5.0   16639.0  white    black   \n",
       "1    ca        5.0    9393.0  white    beige   \n",
       "2    ca       45.0    1331.0   gray    black   \n",
       "3    ca       41.0   14282.0  white    black   \n",
       "5    ca        1.0    5554.0   gray    black   \n",
       "\n",
       "                                              seller      mmr  sellingprice  \n",
       "0                            kia motors america  inc  20500.0       21500.0  \n",
       "1                            kia motors america  inc  20800.0       21500.0  \n",
       "2             financial services remarketing (lease)  31900.0       30000.0  \n",
       "3                            volvo na rep/world omni  27500.0       27750.0  \n",
       "5  enterprise vehicle exchange / tra / rental / t...  15350.0       10900.0  "
      ]
     },
     "execution_count": 11,
     "metadata": {},
     "output_type": "execute_result"
    }
   ],
   "source": [
    "clean_df.head(5)"
   ]
  },
  {
   "cell_type": "code",
   "execution_count": 12,
   "id": "1a6b74e0",
   "metadata": {
    "executionInfo": {
     "elapsed": 47,
     "status": "ok",
     "timestamp": 1707675490932,
     "user": {
      "displayName": "Syed Anwar",
      "userId": "07422359212057843560"
     },
     "user_tz": -300
    },
    "id": "cdfc97c3-eada-405f-8241-b74010a6336b",
    "outputId": "79287b16-1033-42ac-b5ff-d6c4f9471909",
    "papermill": {
     "duration": 0.042974,
     "end_time": "2024-03-18T08:09:26.648603",
     "exception": false,
     "start_time": "2024-03-18T08:09:26.605629",
     "status": "completed"
    },
    "tags": []
   },
   "outputs": [
    {
     "data": {
      "text/plain": [
       "(511816, 15)"
      ]
     },
     "execution_count": 12,
     "metadata": {},
     "output_type": "execute_result"
    }
   ],
   "source": [
    "clean_df.shape"
   ]
  },
  {
   "cell_type": "markdown",
   "id": "79cdabfa",
   "metadata": {
    "id": "a918ce5e-c943-4353-b43f-7c5cd519ba85",
    "papermill": {
     "duration": 0.043792,
     "end_time": "2024-03-18T08:09:31.454651",
     "exception": false,
     "start_time": "2024-03-18T08:09:31.410859",
     "status": "completed"
    },
    "tags": []
   },
   "source": [
    "# Feature Engineering"
   ]
  },
  {
   "cell_type": "code",
   "execution_count": 13,
   "id": "4e93fed6",
   "metadata": {
    "id": "104baad3-b732-4336-9105-1562936edced",
    "papermill": {
     "duration": 0.055837,
     "end_time": "2024-03-18T08:09:31.551749",
     "exception": false,
     "start_time": "2024-03-18T08:09:31.495912",
     "status": "completed"
    },
    "tags": []
   },
   "outputs": [],
   "source": [
    "# Normalize/Scalling function. it will return scale dataframe.\n",
    "def normalize(df):\n",
    "    # Nominal categories\n",
    "    for name in features_nom:\n",
    "        df[name] = df[name].astype(\"category\")\n",
    "        # Add a None category for missing values\n",
    "        if \"None\" not in df[name].cat.categories:\n",
    "            df[name] = df[name].cat.add_categories(\"None\")\n",
    "    # Ordinal categories\n",
    "    for name, levels in ordered_levels.items():\n",
    "        df[name] = df[name].astype(CategoricalDtype(levels,\n",
    "                                                    ordered=True))\n",
    "    return df"
   ]
  },
  {
   "cell_type": "markdown",
   "id": "c134c415",
   "metadata": {
    "id": "1776d1be-0ca4-4afb-9cfb-3e3002175be7",
    "papermill": {
     "duration": 0.041375,
     "end_time": "2024-03-18T08:09:31.633935",
     "exception": false,
     "start_time": "2024-03-18T08:09:31.592560",
     "status": "completed"
    },
    "tags": []
   },
   "source": [
    "The numeric features are already encoded correctly (`float` for continuous, `int` for discrete), but the categoricals we'll need to do ourselves"
   ]
  },
  {
   "cell_type": "code",
   "execution_count": 14,
   "id": "938e67de",
   "metadata": {
    "id": "e34be8a6-1290-4183-9d43-a29fa75d7e69",
    "papermill": {
     "duration": 0.273144,
     "end_time": "2024-03-18T08:09:31.948769",
     "exception": false,
     "start_time": "2024-03-18T08:09:31.675625",
     "status": "completed"
    },
    "tags": []
   },
   "outputs": [],
   "source": [
    "from sklearn.preprocessing import MinMaxScaler, LabelEncoder\n",
    "\n",
    "def normalize_features(df):\n",
    "    # Copy the original DataFrame to avoid modifying the input\n",
    "    normalized_df = df.copy()\n",
    "\n",
    "    # Numerical columns to be normalized\n",
    "    numerical_cols = ['condition', 'odometer', 'mmr']\n",
    "\n",
    "    # Categorical columns to be encoded\n",
    "    categorical_cols = [col for col in df.columns if col not in numerical_cols and col != 'sellingprice']\n",
    "\n",
    "    # Normalize numerical features using Min-Max Scaling\n",
    "    scaler_dict = {}\n",
    "    for col in numerical_cols:\n",
    "        scaler = MinMaxScaler()\n",
    "        normalized_df[col] = scaler.fit_transform(df[[col]])\n",
    "        scaler_dict[col] = scaler\n",
    "\n",
    "    # Encode categorical features using Label Encoding\n",
    "    label_encoders = {}\n",
    "    for col in categorical_cols:\n",
    "        le = LabelEncoder()\n",
    "        normalized_df[col] = le.fit_transform(df[col])\n",
    "        label_encoders[col] = le\n",
    "\n",
    "    return normalized_df, scaler_dict, label_encoders\n"
   ]
  },
  {
   "cell_type": "markdown",
   "id": "291e6624",
   "metadata": {
    "id": "ce38e182-e667-4ec6-818e-c47afce1ef0f",
    "papermill": {
     "duration": 0.04104,
     "end_time": "2024-03-18T08:09:32.030490",
     "exception": false,
     "start_time": "2024-03-18T08:09:31.989450",
     "status": "completed"
    },
    "tags": []
   },
   "source": [
    "Normalize numerical features using Min-Max Scaling and encode categorical features.\n",
    "\n",
    "    Parameters:\n",
    "    - df: DataFrame, the input DataFrame containing both numerical and categorical features.\n",
    "\n",
    "    Returns:\n",
    "    - normalized_df: DataFrame, the normalized DataFrame.\n",
    "    - scaler_dict: dict, dictionary containing MinMaxScaler objects for numerical columns.\n",
    "    - label_encoders: dict, dictionary containing LabelEncoder objects for categorical columns."
   ]
  },
  {
   "cell_type": "code",
   "execution_count": 15,
   "id": "b9f3f2af",
   "metadata": {
    "id": "e394ef50-3d89-4f6f-a108-2bb985924a15",
    "papermill": {
     "duration": 4.424416,
     "end_time": "2024-03-18T08:09:36.495882",
     "exception": false,
     "start_time": "2024-03-18T08:09:32.071466",
     "status": "completed"
    },
    "tags": []
   },
   "outputs": [],
   "source": [
    "normalized_df, scaler_dict, label_encoders = normalize_features(clean_df)"
   ]
  },
  {
   "cell_type": "code",
   "execution_count": 16,
   "id": "7a1509dc",
   "metadata": {
    "executionInfo": {
     "elapsed": 19,
     "status": "ok",
     "timestamp": 1707675512534,
     "user": {
      "displayName": "Syed Anwar",
      "userId": "07422359212057843560"
     },
     "user_tz": -300
    },
    "id": "aa28b4e9-c988-49db-bc69-02c2c9003c1e",
    "outputId": "97a2b0c0-8e84-4921-c255-8a9c8ea078ef",
    "papermill": {
     "duration": 0.065667,
     "end_time": "2024-03-18T08:09:36.602026",
     "exception": false,
     "start_time": "2024-03-18T08:09:36.536359",
     "status": "completed"
    },
    "tags": []
   },
   "outputs": [
    {
     "data": {
      "text/html": [
       "<div>\n",
       "<style scoped>\n",
       "    .dataframe tbody tr th:only-of-type {\n",
       "        vertical-align: middle;\n",
       "    }\n",
       "\n",
       "    .dataframe tbody tr th {\n",
       "        vertical-align: top;\n",
       "    }\n",
       "\n",
       "    .dataframe thead th {\n",
       "        text-align: right;\n",
       "    }\n",
       "</style>\n",
       "<table border=\"1\" class=\"dataframe\">\n",
       "  <thead>\n",
       "    <tr style=\"text-align: right;\">\n",
       "      <th></th>\n",
       "      <th>year</th>\n",
       "      <th>make</th>\n",
       "      <th>model</th>\n",
       "      <th>trim</th>\n",
       "      <th>body</th>\n",
       "      <th>transmission</th>\n",
       "      <th>vin</th>\n",
       "      <th>state</th>\n",
       "      <th>condition</th>\n",
       "      <th>odometer</th>\n",
       "      <th>color</th>\n",
       "      <th>interior</th>\n",
       "      <th>seller</th>\n",
       "      <th>mmr</th>\n",
       "      <th>sellingprice</th>\n",
       "    </tr>\n",
       "  </thead>\n",
       "  <tbody>\n",
       "    <tr>\n",
       "      <th>0</th>\n",
       "      <td>33</td>\n",
       "      <td>20</td>\n",
       "      <td>599</td>\n",
       "      <td>906</td>\n",
       "      <td>33</td>\n",
       "      <td>1</td>\n",
       "      <td>373764</td>\n",
       "      <td>25</td>\n",
       "      <td>0.083333</td>\n",
       "      <td>0.095017</td>\n",
       "      <td>40</td>\n",
       "      <td>1</td>\n",
       "      <td>6787</td>\n",
       "      <td>0.619048</td>\n",
       "      <td>21500.0</td>\n",
       "    </tr>\n",
       "    <tr>\n",
       "      <th>1</th>\n",
       "      <td>33</td>\n",
       "      <td>20</td>\n",
       "      <td>599</td>\n",
       "      <td>906</td>\n",
       "      <td>33</td>\n",
       "      <td>1</td>\n",
       "      <td>373756</td>\n",
       "      <td>25</td>\n",
       "      <td>0.083333</td>\n",
       "      <td>0.053636</td>\n",
       "      <td>40</td>\n",
       "      <td>0</td>\n",
       "      <td>6787</td>\n",
       "      <td>0.628118</td>\n",
       "      <td>21500.0</td>\n",
       "    </tr>\n",
       "    <tr>\n",
       "      <th>2</th>\n",
       "      <td>32</td>\n",
       "      <td>2</td>\n",
       "      <td>8</td>\n",
       "      <td>273</td>\n",
       "      <td>34</td>\n",
       "      <td>1</td>\n",
       "      <td>467824</td>\n",
       "      <td>25</td>\n",
       "      <td>0.916667</td>\n",
       "      <td>0.007595</td>\n",
       "      <td>29</td>\n",
       "      <td>1</td>\n",
       "      <td>4691</td>\n",
       "      <td>0.963719</td>\n",
       "      <td>30000.0</td>\n",
       "    </tr>\n",
       "    <tr>\n",
       "      <th>3</th>\n",
       "      <td>33</td>\n",
       "      <td>43</td>\n",
       "      <td>543</td>\n",
       "      <td>1276</td>\n",
       "      <td>34</td>\n",
       "      <td>1</td>\n",
       "      <td>500605</td>\n",
       "      <td>25</td>\n",
       "      <td>0.833333</td>\n",
       "      <td>0.081556</td>\n",
       "      <td>40</td>\n",
       "      <td>1</td>\n",
       "      <td>12992</td>\n",
       "      <td>0.830688</td>\n",
       "      <td>27750.0</td>\n",
       "    </tr>\n",
       "    <tr>\n",
       "      <th>5</th>\n",
       "      <td>33</td>\n",
       "      <td>30</td>\n",
       "      <td>68</td>\n",
       "      <td>116</td>\n",
       "      <td>34</td>\n",
       "      <td>1</td>\n",
       "      <td>175740</td>\n",
       "      <td>25</td>\n",
       "      <td>0.000000</td>\n",
       "      <td>0.031712</td>\n",
       "      <td>29</td>\n",
       "      <td>1</td>\n",
       "      <td>4345</td>\n",
       "      <td>0.463341</td>\n",
       "      <td>10900.0</td>\n",
       "    </tr>\n",
       "  </tbody>\n",
       "</table>\n",
       "</div>"
      ],
      "text/plain": [
       "   year  make  model  trim  body  transmission     vin  state  condition  \\\n",
       "0    33    20    599   906    33             1  373764     25   0.083333   \n",
       "1    33    20    599   906    33             1  373756     25   0.083333   \n",
       "2    32     2      8   273    34             1  467824     25   0.916667   \n",
       "3    33    43    543  1276    34             1  500605     25   0.833333   \n",
       "5    33    30     68   116    34             1  175740     25   0.000000   \n",
       "\n",
       "   odometer  color  interior  seller       mmr  sellingprice  \n",
       "0  0.095017     40         1    6787  0.619048       21500.0  \n",
       "1  0.053636     40         0    6787  0.628118       21500.0  \n",
       "2  0.007595     29         1    4691  0.963719       30000.0  \n",
       "3  0.081556     40         1   12992  0.830688       27750.0  \n",
       "5  0.031712     29         1    4345  0.463341       10900.0  "
      ]
     },
     "execution_count": 16,
     "metadata": {},
     "output_type": "execute_result"
    }
   ],
   "source": [
    "normalized_df.head(5)"
   ]
  },
  {
   "cell_type": "code",
   "execution_count": 17,
   "id": "7121806b",
   "metadata": {
    "executionInfo": {
     "elapsed": 17,
     "status": "ok",
     "timestamp": 1707675512535,
     "user": {
      "displayName": "Syed Anwar",
      "userId": "07422359212057843560"
     },
     "user_tz": -300
    },
    "id": "fd598de3-c5f2-4d08-8478-33985886c08d",
    "outputId": "6c939f09-0b7c-4565-a2cb-1c90e96c8031",
    "papermill": {
     "duration": 0.055964,
     "end_time": "2024-03-18T08:09:36.699464",
     "exception": false,
     "start_time": "2024-03-18T08:09:36.643500",
     "status": "completed"
    },
    "tags": []
   },
   "outputs": [
    {
     "data": {
      "text/plain": [
       "{'condition': MinMaxScaler(),\n",
       " 'odometer': MinMaxScaler(),\n",
       " 'mmr': MinMaxScaler()}"
      ]
     },
     "execution_count": 17,
     "metadata": {},
     "output_type": "execute_result"
    }
   ],
   "source": [
    "scaler_dict"
   ]
  },
  {
   "cell_type": "code",
   "execution_count": 18,
   "id": "efc00341",
   "metadata": {
    "executionInfo": {
     "elapsed": 13,
     "status": "ok",
     "timestamp": 1707675512536,
     "user": {
      "displayName": "Syed Anwar",
      "userId": "07422359212057843560"
     },
     "user_tz": -300
    },
    "id": "5685171a-4d5b-4ee4-9e18-cbf6bd92036c",
    "outputId": "1085e29c-b0ec-41ca-9f07-425e28725e54",
    "papermill": {
     "duration": 0.059335,
     "end_time": "2024-03-18T08:09:36.801053",
     "exception": false,
     "start_time": "2024-03-18T08:09:36.741718",
     "status": "completed"
    },
    "tags": []
   },
   "outputs": [
    {
     "data": {
      "text/plain": [
       "{'year': LabelEncoder(),\n",
       " 'make': LabelEncoder(),\n",
       " 'model': LabelEncoder(),\n",
       " 'trim': LabelEncoder(),\n",
       " 'body': LabelEncoder(),\n",
       " 'transmission': LabelEncoder(),\n",
       " 'vin': LabelEncoder(),\n",
       " 'state': LabelEncoder(),\n",
       " 'color': LabelEncoder(),\n",
       " 'interior': LabelEncoder(),\n",
       " 'seller': LabelEncoder()}"
      ]
     },
     "execution_count": 18,
     "metadata": {},
     "output_type": "execute_result"
    }
   ],
   "source": [
    "label_encoders"
   ]
  },
  {
   "cell_type": "markdown",
   "id": "543dc2ce",
   "metadata": {
    "id": "b2a3ac48-ca0d-4d74-a3b1-7156ec4df1e1",
    "papermill": {
     "duration": 0.041419,
     "end_time": "2024-03-18T08:09:36.884328",
     "exception": false,
     "start_time": "2024-03-18T08:09:36.842909",
     "status": "completed"
    },
    "tags": []
   },
   "source": [
    "We want to perform feature selection using all columns (both numerical and categorical) without explicitly specifying features, we can use techniques that handle both types of features. One such approach is to use tree-based models (like Random Forest) that inherently handle a mixture of numerical and categorical features. The feature_importances_ attribute of tree-based models can be used for feature selection."
   ]
  },
  {
   "cell_type": "markdown",
   "id": "b93c637b",
   "metadata": {
    "id": "9107a0bb-d166-4fe8-aacb-cd59a5ee58b8",
    "papermill": {
     "duration": 0.041112,
     "end_time": "2024-03-18T08:09:36.967203",
     "exception": false,
     "start_time": "2024-03-18T08:09:36.926091",
     "status": "completed"
    },
    "tags": []
   },
   "source": [
    "# Dataset Generation/Splitting\n",
    "\n",
    "### Random Forest Model:\n",
    "\n",
    "- Use the original, non-scaled DataFrame.\n",
    "- Random Forests are generally not sensitive to feature scales, and using the raw data is a common practice."
   ]
  },
  {
   "cell_type": "code",
   "execution_count": 19,
   "id": "61a34a71",
   "metadata": {
    "executionInfo": {
     "elapsed": 621,
     "status": "ok",
     "timestamp": 1707675722730,
     "user": {
      "displayName": "Syed Anwar",
      "userId": "07422359212057843560"
     },
     "user_tz": -300
    },
    "id": "5741cbfb-1e35-4e46-9984-ab0fb6e9faa1",
    "outputId": "475174f6-e13a-4927-9fdc-f8d08d6fbcd0",
    "papermill": {
     "duration": 0.510739,
     "end_time": "2024-03-18T08:09:37.522284",
     "exception": false,
     "start_time": "2024-03-18T08:09:37.011545",
     "status": "completed"
    },
    "tags": []
   },
   "outputs": [
    {
     "name": "stdout",
     "output_type": "stream",
     "text": [
      "Train set: (327561, 10) (327561,)\n",
      "Validation set: (81891, 10) (81891,)\n",
      "Test set: (102364, 10) (102364,)\n"
     ]
    }
   ],
   "source": [
    "from sklearn.model_selection import train_test_split\n",
    "\n",
    "X_for_randomForest = normalized_df.drop(['sellingprice', 'year', 'vin', 'seller', 'state'], axis=1)  # Features\n",
    "y_for_randomForest = normalized_df['sellingprice']  # Target variable\n",
    "\n",
    "# Split the data into training (80%) and test (20%) sets\n",
    "X_train, X_test, y_train, y_test = train_test_split(X_for_randomForest, y_for_randomForest, test_size=0.2, random_state=42)\n",
    "\n",
    "# Further split the training data into training (80%) and validation (20%) sets\n",
    "X_train, X_val, y_train, y_val = train_test_split(X_train, y_train, test_size=0.2, random_state=42)\n",
    "\n",
    "print(\"Train set:\", X_train.shape, y_train.shape)\n",
    "print(\"Validation set:\", X_val.shape, y_val.shape)\n",
    "print(\"Test set:\", X_test.shape, y_test.shape)"
   ]
  },
  {
   "cell_type": "code",
   "execution_count": 20,
   "id": "31b4de98",
   "metadata": {
    "executionInfo": {
     "elapsed": 11,
     "status": "ok",
     "timestamp": 1707675724782,
     "user": {
      "displayName": "Syed Anwar",
      "userId": "07422359212057843560"
     },
     "user_tz": -300
    },
    "id": "kwvYiIXyKFzz",
    "outputId": "8439b8a7-19f2-4970-f9ed-e57c59fdc7f5",
    "papermill": {
     "duration": 0.056579,
     "end_time": "2024-03-18T08:09:37.623618",
     "exception": false,
     "start_time": "2024-03-18T08:09:37.567039",
     "status": "completed"
    },
    "scrolled": true,
    "tags": []
   },
   "outputs": [
    {
     "data": {
      "text/plain": [
       "Index(['make', 'model', 'trim', 'body', 'transmission', 'condition',\n",
       "       'odometer', 'color', 'interior', 'mmr'],\n",
       "      dtype='object')"
      ]
     },
     "execution_count": 20,
     "metadata": {},
     "output_type": "execute_result"
    }
   ],
   "source": [
    "X_for_randomForest.columns"
   ]
  },
  {
   "cell_type": "markdown",
   "id": "850b60ae",
   "metadata": {
    "id": "1ecb5477-0b79-41a4-879d-040366272c40",
    "papermill": {
     "duration": 0.04269,
     "end_time": "2024-03-18T08:09:37.707416",
     "exception": false,
     "start_time": "2024-03-18T08:09:37.664726",
     "status": "completed"
    },
    "tags": []
   },
   "source": [
    "## Random Forest Model Fitting"
   ]
  },
  {
   "cell_type": "code",
   "execution_count": 21,
   "id": "baa95bfb",
   "metadata": {
    "executionInfo": {
     "elapsed": 404774,
     "status": "ok",
     "timestamp": 1707686068355,
     "user": {
      "displayName": "Syed Anwar",
      "userId": "07422359212057843560"
     },
     "user_tz": -300
    },
    "id": "8206ab87-1baf-49cf-b64d-7e0fc4bcbb8e",
    "outputId": "110e8e7c-938c-4595-bd37-b2cd300cb11d",
    "papermill": {
     "duration": 5445.855056,
     "end_time": "2024-03-18T09:40:23.605907",
     "exception": false,
     "start_time": "2024-03-18T08:09:37.750851",
     "status": "completed"
    },
    "tags": []
   },
   "outputs": [
    {
     "name": "stdout",
     "output_type": "stream",
     "text": [
      "Fitting 5 folds for each of 24 candidates, totalling 120 fits\n"
     ]
    },
    {
     "data": {
      "text/html": [
       "<style>#sk-container-id-1 {color: black;background-color: white;}#sk-container-id-1 pre{padding: 0;}#sk-container-id-1 div.sk-toggleable {background-color: white;}#sk-container-id-1 label.sk-toggleable__label {cursor: pointer;display: block;width: 100%;margin-bottom: 0;padding: 0.3em;box-sizing: border-box;text-align: center;}#sk-container-id-1 label.sk-toggleable__label-arrow:before {content: \"▸\";float: left;margin-right: 0.25em;color: #696969;}#sk-container-id-1 label.sk-toggleable__label-arrow:hover:before {color: black;}#sk-container-id-1 div.sk-estimator:hover label.sk-toggleable__label-arrow:before {color: black;}#sk-container-id-1 div.sk-toggleable__content {max-height: 0;max-width: 0;overflow: hidden;text-align: left;background-color: #f0f8ff;}#sk-container-id-1 div.sk-toggleable__content pre {margin: 0.2em;color: black;border-radius: 0.25em;background-color: #f0f8ff;}#sk-container-id-1 input.sk-toggleable__control:checked~div.sk-toggleable__content {max-height: 200px;max-width: 100%;overflow: auto;}#sk-container-id-1 input.sk-toggleable__control:checked~label.sk-toggleable__label-arrow:before {content: \"▾\";}#sk-container-id-1 div.sk-estimator input.sk-toggleable__control:checked~label.sk-toggleable__label {background-color: #d4ebff;}#sk-container-id-1 div.sk-label input.sk-toggleable__control:checked~label.sk-toggleable__label {background-color: #d4ebff;}#sk-container-id-1 input.sk-hidden--visually {border: 0;clip: rect(1px 1px 1px 1px);clip: rect(1px, 1px, 1px, 1px);height: 1px;margin: -1px;overflow: hidden;padding: 0;position: absolute;width: 1px;}#sk-container-id-1 div.sk-estimator {font-family: monospace;background-color: #f0f8ff;border: 1px dotted black;border-radius: 0.25em;box-sizing: border-box;margin-bottom: 0.5em;}#sk-container-id-1 div.sk-estimator:hover {background-color: #d4ebff;}#sk-container-id-1 div.sk-parallel-item::after {content: \"\";width: 100%;border-bottom: 1px solid gray;flex-grow: 1;}#sk-container-id-1 div.sk-label:hover label.sk-toggleable__label {background-color: #d4ebff;}#sk-container-id-1 div.sk-serial::before {content: \"\";position: absolute;border-left: 1px solid gray;box-sizing: border-box;top: 0;bottom: 0;left: 50%;z-index: 0;}#sk-container-id-1 div.sk-serial {display: flex;flex-direction: column;align-items: center;background-color: white;padding-right: 0.2em;padding-left: 0.2em;position: relative;}#sk-container-id-1 div.sk-item {position: relative;z-index: 1;}#sk-container-id-1 div.sk-parallel {display: flex;align-items: stretch;justify-content: center;background-color: white;position: relative;}#sk-container-id-1 div.sk-item::before, #sk-container-id-1 div.sk-parallel-item::before {content: \"\";position: absolute;border-left: 1px solid gray;box-sizing: border-box;top: 0;bottom: 0;left: 50%;z-index: -1;}#sk-container-id-1 div.sk-parallel-item {display: flex;flex-direction: column;z-index: 1;position: relative;background-color: white;}#sk-container-id-1 div.sk-parallel-item:first-child::after {align-self: flex-end;width: 50%;}#sk-container-id-1 div.sk-parallel-item:last-child::after {align-self: flex-start;width: 50%;}#sk-container-id-1 div.sk-parallel-item:only-child::after {width: 0;}#sk-container-id-1 div.sk-dashed-wrapped {border: 1px dashed gray;margin: 0 0.4em 0.5em 0.4em;box-sizing: border-box;padding-bottom: 0.4em;background-color: white;}#sk-container-id-1 div.sk-label label {font-family: monospace;font-weight: bold;display: inline-block;line-height: 1.2em;}#sk-container-id-1 div.sk-label-container {text-align: center;}#sk-container-id-1 div.sk-container {/* jupyter's `normalize.less` sets `[hidden] { display: none; }` but bootstrap.min.css set `[hidden] { display: none !important; }` so we also need the `!important` here to be able to override the default hidden behavior on the sphinx rendered scikit-learn.org. See: https://github.com/scikit-learn/scikit-learn/issues/21755 */display: inline-block !important;position: relative;}#sk-container-id-1 div.sk-text-repr-fallback {display: none;}</style><div id=\"sk-container-id-1\" class=\"sk-top-container\"><div class=\"sk-text-repr-fallback\"><pre>GridSearchCV(cv=5, estimator=RandomForestRegressor(random_state=42), n_jobs=-1,\n",
       "             param_grid={&#x27;max_depth&#x27;: [30, 40, 50], &#x27;min_samples_leaf&#x27;: [4, 5],\n",
       "                         &#x27;min_samples_split&#x27;: [8, 12],\n",
       "                         &#x27;n_estimators&#x27;: [50, 100]},\n",
       "             scoring=&#x27;neg_mean_squared_error&#x27;, verbose=1)</pre><b>In a Jupyter environment, please rerun this cell to show the HTML representation or trust the notebook. <br />On GitHub, the HTML representation is unable to render, please try loading this page with nbviewer.org.</b></div><div class=\"sk-container\" hidden><div class=\"sk-item sk-dashed-wrapped\"><div class=\"sk-label-container\"><div class=\"sk-label sk-toggleable\"><input class=\"sk-toggleable__control sk-hidden--visually\" id=\"sk-estimator-id-1\" type=\"checkbox\" ><label for=\"sk-estimator-id-1\" class=\"sk-toggleable__label sk-toggleable__label-arrow\">GridSearchCV</label><div class=\"sk-toggleable__content\"><pre>GridSearchCV(cv=5, estimator=RandomForestRegressor(random_state=42), n_jobs=-1,\n",
       "             param_grid={&#x27;max_depth&#x27;: [30, 40, 50], &#x27;min_samples_leaf&#x27;: [4, 5],\n",
       "                         &#x27;min_samples_split&#x27;: [8, 12],\n",
       "                         &#x27;n_estimators&#x27;: [50, 100]},\n",
       "             scoring=&#x27;neg_mean_squared_error&#x27;, verbose=1)</pre></div></div></div><div class=\"sk-parallel\"><div class=\"sk-parallel-item\"><div class=\"sk-item\"><div class=\"sk-label-container\"><div class=\"sk-label sk-toggleable\"><input class=\"sk-toggleable__control sk-hidden--visually\" id=\"sk-estimator-id-2\" type=\"checkbox\" ><label for=\"sk-estimator-id-2\" class=\"sk-toggleable__label sk-toggleable__label-arrow\">estimator: RandomForestRegressor</label><div class=\"sk-toggleable__content\"><pre>RandomForestRegressor(random_state=42)</pre></div></div></div><div class=\"sk-serial\"><div class=\"sk-item\"><div class=\"sk-estimator sk-toggleable\"><input class=\"sk-toggleable__control sk-hidden--visually\" id=\"sk-estimator-id-3\" type=\"checkbox\" ><label for=\"sk-estimator-id-3\" class=\"sk-toggleable__label sk-toggleable__label-arrow\">RandomForestRegressor</label><div class=\"sk-toggleable__content\"><pre>RandomForestRegressor(random_state=42)</pre></div></div></div></div></div></div></div></div></div></div>"
      ],
      "text/plain": [
       "GridSearchCV(cv=5, estimator=RandomForestRegressor(random_state=42), n_jobs=-1,\n",
       "             param_grid={'max_depth': [30, 40, 50], 'min_samples_leaf': [4, 5],\n",
       "                         'min_samples_split': [8, 12],\n",
       "                         'n_estimators': [50, 100]},\n",
       "             scoring='neg_mean_squared_error', verbose=1)"
      ]
     },
     "execution_count": 21,
     "metadata": {},
     "output_type": "execute_result"
    }
   ],
   "source": [
    "from sklearn.ensemble import RandomForestRegressor\n",
    "from sklearn.model_selection import GridSearchCV\n",
    "\n",
    "\n",
    "# Random Forest hyperparameter tuning using GridSearchCV\n",
    "rf_param_grid = {\n",
    "    'n_estimators': [50, 100],\n",
    "    'max_depth': [30, 40, 50],\n",
    "    'min_samples_split': [8, 12],\n",
    "    'min_samples_leaf': [4, 5]\n",
    "}\n",
    "\n",
    "rf_model = RandomForestRegressor(random_state=42)\n",
    "rf_grid_search = GridSearchCV(rf_model, rf_param_grid, cv=5, scoring='neg_mean_squared_error', verbose=1, n_jobs=-1)\n",
    "rf_grid_search.fit(X_train, y_train)"
   ]
  },
  {
   "cell_type": "code",
   "execution_count": 22,
   "id": "9869148e",
   "metadata": {
    "executionInfo": {
     "elapsed": 422,
     "status": "ok",
     "timestamp": 1707686831783,
     "user": {
      "displayName": "Syed Anwar",
      "userId": "07422359212057843560"
     },
     "user_tz": -300
    },
    "id": "FSbga_Vpy6BV",
    "outputId": "66f7d61a-2174-4d32-f86b-72ddbbbaa8f1",
    "papermill": {
     "duration": 0.059978,
     "end_time": "2024-03-18T09:40:23.798706",
     "exception": false,
     "start_time": "2024-03-18T09:40:23.738728",
     "status": "completed"
    },
    "tags": []
   },
   "outputs": [
    {
     "data": {
      "text/plain": [
       "{'max_depth': 30,\n",
       " 'min_samples_leaf': 5,\n",
       " 'min_samples_split': 12,\n",
       " 'n_estimators': 100}"
      ]
     },
     "execution_count": 22,
     "metadata": {},
     "output_type": "execute_result"
    }
   ],
   "source": [
    "rf_grid_search.best_params_"
   ]
  },
  {
   "cell_type": "code",
   "execution_count": 23,
   "id": "d774682e",
   "metadata": {
    "executionInfo": {
     "elapsed": 180445,
     "status": "ok",
     "timestamp": 1707687088291,
     "user": {
      "displayName": "Syed Anwar",
      "userId": "07422359212057843560"
     },
     "user_tz": -300
    },
    "id": "Xb93OoyaGTLt",
    "outputId": "eac7d7bd-f3f5-442b-dea6-9816f2e00480",
    "papermill": {
     "duration": 192.805664,
     "end_time": "2024-03-18T09:43:36.650882",
     "exception": false,
     "start_time": "2024-03-18T09:40:23.845218",
     "status": "completed"
    },
    "tags": []
   },
   "outputs": [
    {
     "data": {
      "text/html": [
       "<style>#sk-container-id-2 {color: black;background-color: white;}#sk-container-id-2 pre{padding: 0;}#sk-container-id-2 div.sk-toggleable {background-color: white;}#sk-container-id-2 label.sk-toggleable__label {cursor: pointer;display: block;width: 100%;margin-bottom: 0;padding: 0.3em;box-sizing: border-box;text-align: center;}#sk-container-id-2 label.sk-toggleable__label-arrow:before {content: \"▸\";float: left;margin-right: 0.25em;color: #696969;}#sk-container-id-2 label.sk-toggleable__label-arrow:hover:before {color: black;}#sk-container-id-2 div.sk-estimator:hover label.sk-toggleable__label-arrow:before {color: black;}#sk-container-id-2 div.sk-toggleable__content {max-height: 0;max-width: 0;overflow: hidden;text-align: left;background-color: #f0f8ff;}#sk-container-id-2 div.sk-toggleable__content pre {margin: 0.2em;color: black;border-radius: 0.25em;background-color: #f0f8ff;}#sk-container-id-2 input.sk-toggleable__control:checked~div.sk-toggleable__content {max-height: 200px;max-width: 100%;overflow: auto;}#sk-container-id-2 input.sk-toggleable__control:checked~label.sk-toggleable__label-arrow:before {content: \"▾\";}#sk-container-id-2 div.sk-estimator input.sk-toggleable__control:checked~label.sk-toggleable__label {background-color: #d4ebff;}#sk-container-id-2 div.sk-label input.sk-toggleable__control:checked~label.sk-toggleable__label {background-color: #d4ebff;}#sk-container-id-2 input.sk-hidden--visually {border: 0;clip: rect(1px 1px 1px 1px);clip: rect(1px, 1px, 1px, 1px);height: 1px;margin: -1px;overflow: hidden;padding: 0;position: absolute;width: 1px;}#sk-container-id-2 div.sk-estimator {font-family: monospace;background-color: #f0f8ff;border: 1px dotted black;border-radius: 0.25em;box-sizing: border-box;margin-bottom: 0.5em;}#sk-container-id-2 div.sk-estimator:hover {background-color: #d4ebff;}#sk-container-id-2 div.sk-parallel-item::after {content: \"\";width: 100%;border-bottom: 1px solid gray;flex-grow: 1;}#sk-container-id-2 div.sk-label:hover label.sk-toggleable__label {background-color: #d4ebff;}#sk-container-id-2 div.sk-serial::before {content: \"\";position: absolute;border-left: 1px solid gray;box-sizing: border-box;top: 0;bottom: 0;left: 50%;z-index: 0;}#sk-container-id-2 div.sk-serial {display: flex;flex-direction: column;align-items: center;background-color: white;padding-right: 0.2em;padding-left: 0.2em;position: relative;}#sk-container-id-2 div.sk-item {position: relative;z-index: 1;}#sk-container-id-2 div.sk-parallel {display: flex;align-items: stretch;justify-content: center;background-color: white;position: relative;}#sk-container-id-2 div.sk-item::before, #sk-container-id-2 div.sk-parallel-item::before {content: \"\";position: absolute;border-left: 1px solid gray;box-sizing: border-box;top: 0;bottom: 0;left: 50%;z-index: -1;}#sk-container-id-2 div.sk-parallel-item {display: flex;flex-direction: column;z-index: 1;position: relative;background-color: white;}#sk-container-id-2 div.sk-parallel-item:first-child::after {align-self: flex-end;width: 50%;}#sk-container-id-2 div.sk-parallel-item:last-child::after {align-self: flex-start;width: 50%;}#sk-container-id-2 div.sk-parallel-item:only-child::after {width: 0;}#sk-container-id-2 div.sk-dashed-wrapped {border: 1px dashed gray;margin: 0 0.4em 0.5em 0.4em;box-sizing: border-box;padding-bottom: 0.4em;background-color: white;}#sk-container-id-2 div.sk-label label {font-family: monospace;font-weight: bold;display: inline-block;line-height: 1.2em;}#sk-container-id-2 div.sk-label-container {text-align: center;}#sk-container-id-2 div.sk-container {/* jupyter's `normalize.less` sets `[hidden] { display: none; }` but bootstrap.min.css set `[hidden] { display: none !important; }` so we also need the `!important` here to be able to override the default hidden behavior on the sphinx rendered scikit-learn.org. See: https://github.com/scikit-learn/scikit-learn/issues/21755 */display: inline-block !important;position: relative;}#sk-container-id-2 div.sk-text-repr-fallback {display: none;}</style><div id=\"sk-container-id-2\" class=\"sk-top-container\"><div class=\"sk-text-repr-fallback\"><pre>RandomForestRegressor(max_depth=30, min_samples_leaf=5, min_samples_split=12)</pre><b>In a Jupyter environment, please rerun this cell to show the HTML representation or trust the notebook. <br />On GitHub, the HTML representation is unable to render, please try loading this page with nbviewer.org.</b></div><div class=\"sk-container\" hidden><div class=\"sk-item\"><div class=\"sk-estimator sk-toggleable\"><input class=\"sk-toggleable__control sk-hidden--visually\" id=\"sk-estimator-id-4\" type=\"checkbox\" checked><label for=\"sk-estimator-id-4\" class=\"sk-toggleable__label sk-toggleable__label-arrow\">RandomForestRegressor</label><div class=\"sk-toggleable__content\"><pre>RandomForestRegressor(max_depth=30, min_samples_leaf=5, min_samples_split=12)</pre></div></div></div></div></div>"
      ],
      "text/plain": [
       "RandomForestRegressor(max_depth=30, min_samples_leaf=5, min_samples_split=12)"
      ]
     },
     "execution_count": 23,
     "metadata": {},
     "output_type": "execute_result"
    }
   ],
   "source": [
    "# Get the best parameters and fit the model\n",
    "best_rf_params = rf_grid_search.best_params_\n",
    "best_rf_model = RandomForestRegressor(**best_rf_params)\n",
    "best_rf_model.fit(X_train, y_train)"
   ]
  },
  {
   "cell_type": "markdown",
   "id": "04728f16",
   "metadata": {
    "id": "97713fec-b13a-4626-97a3-7eec5f03d1d4",
    "papermill": {
     "duration": 0.04452,
     "end_time": "2024-03-18T09:43:36.739568",
     "exception": false,
     "start_time": "2024-03-18T09:43:36.695048",
     "status": "completed"
    },
    "tags": []
   },
   "source": [
    "### Evaluating Random Forest Model"
   ]
  },
  {
   "cell_type": "code",
   "execution_count": 24,
   "id": "ea760b56",
   "metadata": {
    "executionInfo": {
     "elapsed": 3436,
     "status": "ok",
     "timestamp": 1707687165165,
     "user": {
      "displayName": "Syed Anwar",
      "userId": "07422359212057843560"
     },
     "user_tz": -300
    },
    "id": "0bfe1b27-0558-4003-bdda-5604b150d4cb",
    "outputId": "20f255bc-c76f-4b92-a041-58680619dc11",
    "papermill": {
     "duration": 3.067113,
     "end_time": "2024-03-18T09:43:39.850820",
     "exception": false,
     "start_time": "2024-03-18T09:43:36.783707",
     "status": "completed"
    },
    "tags": []
   },
   "outputs": [
    {
     "name": "stdout",
     "output_type": "stream",
     "text": [
      "Random Forest Validation Mean Squared Error: 1928777.072447922\n"
     ]
    }
   ],
   "source": [
    "from sklearn.metrics import mean_squared_error\n",
    "\n",
    "y_val_pred_rf = best_rf_model.predict(X_val)\n",
    "mse_rf = mean_squared_error(y_val, y_val_pred_rf)\n",
    "print(f'Random Forest Validation Mean Squared Error: {mse_rf}')"
   ]
  },
  {
   "cell_type": "code",
   "execution_count": 25,
   "id": "e2e08091",
   "metadata": {
    "executionInfo": {
     "elapsed": 3943,
     "status": "ok",
     "timestamp": 1707687173936,
     "user": {
      "displayName": "Syed Anwar",
      "userId": "07422359212057843560"
     },
     "user_tz": -300
    },
    "id": "SWbWwCvh2dyi",
    "outputId": "cbb56978-0564-45a2-ff0a-d234aa8ac0be",
    "papermill": {
     "duration": 3.789408,
     "end_time": "2024-03-18T09:43:43.684900",
     "exception": false,
     "start_time": "2024-03-18T09:43:39.895492",
     "status": "completed"
    },
    "tags": []
   },
   "outputs": [
    {
     "name": "stdout",
     "output_type": "stream",
     "text": [
      "Mean Squared Error (MSE) on Test Data: 1858092.761665666\n",
      "R-squared (R2) on Test Data: 0.9652836995551746\n",
      "Mean Absolute Error (MAE) on Test Data: 911.5852092993039\n"
     ]
    }
   ],
   "source": [
    "from sklearn.metrics import mean_squared_error, r2_score, mean_absolute_error\n",
    "\n",
    "# Assuming X_test and y_test are your test data\n",
    "y_pred_test = best_rf_model.predict(X_test)\n",
    "\n",
    "# Evaluate the model's performance on the test data\n",
    "mse_test = mean_squared_error(y_test, y_pred_test)\n",
    "r2_test = r2_score(y_test, y_pred_test)\n",
    "mae_test = mean_absolute_error(y_test, y_pred_test)\n",
    "\n",
    "print(\"Mean Squared Error (MSE) on Test Data:\", mse_test)\n",
    "print(\"R-squared (R2) on Test Data:\", r2_test)\n",
    "print(\"Mean Absolute Error (MAE) on Test Data:\", mae_test)\n"
   ]
  },
  {
   "cell_type": "code",
   "execution_count": 26,
   "id": "92d8e5b3",
   "metadata": {
    "executionInfo": {
     "elapsed": 4030,
     "status": "ok",
     "timestamp": 1707687181854,
     "user": {
      "displayName": "Syed Anwar",
      "userId": "07422359212057843560"
     },
     "user_tz": -300
    },
    "id": "Pfe5GK0AVB5x",
    "outputId": "6cb389ea-7a22-4e12-b4e9-75c1ed5041be",
    "papermill": {
     "duration": 0.514494,
     "end_time": "2024-03-18T09:43:44.245079",
     "exception": false,
     "start_time": "2024-03-18T09:43:43.730585",
     "status": "completed"
    },
    "tags": []
   },
   "outputs": [
    {
     "data": {
      "text/plain": [
       "['../models/random_forest_initial_model.pkl']"
      ]
     },
     "execution_count": 26,
     "metadata": {},
     "output_type": "execute_result"
    }
   ],
   "source": [
    "import joblib\n",
    "\n",
    "# Assuming best_rf_model is your trained Random Forest model\n",
    "model_filename = '../models/random_forest_initial_model.pkl'\n",
    "joblib.dump(best_rf_model, model_filename)"
   ]
  },
  {
   "cell_type": "code",
   "execution_count": 27,
   "id": "eaec85e2",
   "metadata": {
    "executionInfo": {
     "elapsed": 3075,
     "status": "ok",
     "timestamp": 1707687188429,
     "user": {
      "displayName": "Syed Anwar",
      "userId": "07422359212057843560"
     },
     "user_tz": -300
    },
    "id": "I2Yj3Qxw5ABu",
    "outputId": "d350fbe5-51ed-4e75-9e48-f5971dc6b9bf",
    "papermill": {
     "duration": 1.18173,
     "end_time": "2024-03-18T09:43:45.473171",
     "exception": false,
     "start_time": "2024-03-18T09:43:44.291441",
     "status": "completed"
    },
    "tags": []
   },
   "outputs": [
    {
     "data": {
      "image/png": "[encoded data removed]",
      "text/plain": [
       "<Figure size 1000x600 with 1 Axes>"
      ]
     },
     "metadata": {},
     "output_type": "display_data"
    },
    {
     "data": {
      "image/png": "[encoded data removed]",
      "text/plain": [
       "<Figure size 1000x600 with 1 Axes>"
      ]
     },
     "metadata": {},
     "output_type": "display_data"
    }
   ],
   "source": [
    "import matplotlib.pyplot as plt\n",
    "import numpy as np\n",
    "\n",
    "# Scatter plot for actual vs predicted values\n",
    "plt.figure(figsize=(10, 6))\n",
    "\n",
    "plt.scatter(y_test, y_pred_test, alpha=0.5)\n",
    "plt.title('Actual vs Predicted Values')\n",
    "plt.xlabel('Actual Values')\n",
    "plt.ylabel('Predicted Values')\n",
    "plt.grid(True)\n",
    "plt.show()\n",
    "\n",
    "# Residual plot\n",
    "residuals = y_test - y_pred_test\n",
    "plt.figure(figsize=(10, 6))\n",
    "\n",
    "plt.scatter(y_test, residuals, alpha=0.5)\n",
    "plt.title('Residual Plot')\n",
    "plt.xlabel('Actual Values')\n",
    "plt.ylabel('Residuals (Actual - Predicted)')\n",
    "plt.axhline(y=0, color='r', linestyle='--', linewidth=2)\n",
    "plt.grid(True)\n",
    "plt.show()\n"
   ]
  }
 ],
 "metadata": {
  "colab": {
   "provenance": []
  },
  "kaggle": {
   "accelerator": "none",
   "dataSources": [
    {
     "datasetId": 4476093,
     "sourceId": 7673611,
     "sourceType": "datasetVersion"
    }
   ],
   "dockerImageVersionId": 30646,
   "isGpuEnabled": false,
   "isInternetEnabled": true,
   "language": "python",
   "sourceType": "notebook"
  },
  "kernelspec": {
   "display_name": "'venv'",
   "language": "python",
   "name": "venv"
  },
  "language_info": {
   "codemirror_mode": {
    "name": "ipython",
    "version": 3
   },
   "file_extension": ".py",
   "mimetype": "text/x-python",
   "name": "python",
   "nbconvert_exporter": "python",
   "pygments_lexer": "ipython3",
   "version": "3.11.9"
  },
  "papermill": {
   "default_parameters": {},
   "duration": 5742.422811,
   "end_time": "2024-03-18T09:43:48.262784",
   "environment_variables": {},
   "exception": null,
   "input_path": "__notebook__.ipynb",
   "output_path": "__notebook__.ipynb",
   "parameters": {},
   "start_time": "2024-03-18T08:08:05.839973",
   "version": "2.5.0"
  }
 },
 "nbformat": 4,
 "nbformat_minor": 5
}
